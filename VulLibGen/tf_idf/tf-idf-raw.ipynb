{
 "cells": [
  {
   "cell_type": "code",
   "execution_count": 43,
   "id": "3eaad109-617b-469c-ace5-93d0059b9796",
   "metadata": {
    "tags": []
   },
   "outputs": [],
   "source": [
    "import os, sys\n",
    "import json\n",
    "import re\n",
    "import time\n",
    "import pandas as pd\n",
    "from multiprocessing import Pool\n",
    "from tqdm import tqdm\n",
    "\n",
    "import tfidf_searching\n",
    "from clean_text import cleaned_text"
   ]
  },
  {
   "cell_type": "code",
   "execution_count": 44,
   "id": "b85103ae-4f32-4402-9753-b4beb35e8591",
   "metadata": {
    "tags": []
   },
   "outputs": [
    {
     "data": {
      "text/plain": [
       "<module 'tfidf_searching' from '/nvme2n1/YangYJworks/@VulApiAlarm/VulLibMiner/tf-idf/tfidf_searching.py'>"
      ]
     },
     "execution_count": 44,
     "metadata": {},
     "output_type": "execute_result"
    }
   ],
   "source": [
    "import importlib\n",
    "importlib.reload(tfidf_searching)"
   ]
  },
  {
   "cell_type": "code",
   "execution_count": 45,
   "id": "c6dd5fe3-904f-4d1a-95b0-8340ad4ee0b1",
   "metadata": {
    "tags": []
   },
   "outputs": [],
   "source": [
    "with open('/nvme2n1/YangYJworks/@VulApiAlarm/VulLibMiner/myData/train.json', 'r') as f:\n",
    "    trains = json.load(f)\n",
    "with open('/nvme2n1/YangYJworks/@VulApiAlarm/VulLibMiner/myData/test.json', 'r') as f:\n",
    "    tests = json.load(f)"
   ]
  },
  {
   "cell_type": "code",
   "execution_count": 46,
   "id": "1827b2f9-65b2-465c-bcfd-33f1ecbc72e2",
   "metadata": {
    "tags": []
   },
   "outputs": [],
   "source": [
    "# oskg_folder = '/home/chentianyu/dependency/oskg/'\n",
    "# node_path = os.path.join(oskg_folder, 'oskg_node2os_20231120163318.csv')\n",
    "# edge_path = os.path.join(oskg_folder, 'oskg_edges_20231120163318.csv')\n",
    "# pros_path = os.path.join(oskg_folder, 'oskg_pros_20231120163318.csv')\n",
    "\n",
    "# nodes = pd.read_csv(node_path, delimiter='\\t', header=None)\n",
    "# edges = pd.read_csv(edge_path, delimiter='\\t', header=None)\n",
    "# pros = pd.read_csv(pros_path, delimiter='\\t')\n",
    "\n",
    "oskg_folder = '/nvme2n1/YangYJworks/@VulApiAlarm/VulLibMiner/myData'\n",
    "# node_path = os.path.join(oskg_folder, 'oskg_node2os_20231120163318.csv')\n",
    "# edge_path = os.path.join(oskg_folder, 'oskg_edges_20231120163318.csv')\n",
    "pros_path = os.path.join(oskg_folder, 'test.csv')\n",
    "\n",
    "# nodes = pd.read_csv(node_path, delimiter='\\t', header=None)\n",
    "# edges = pd.read_csv(edge_path, delimiter='\\t', header=None)\n",
    "pros = pd.read_csv(pros_path, delimiter='\\t')\n",
    "\n"
   ]
  },
  {
   "cell_type": "code",
   "execution_count": 47,
   "id": "4e45def7-4aa6-4db3-b846-7e8d54ca15ce",
   "metadata": {
    "tags": []
   },
   "outputs": [],
   "source": [
    "#获得names列表\n",
    "pros = pros[pros.apply(lambda x: type(x['name']) == str, axis=1)]\n",
    "pros_names = set([name.lower() for name in pros.name.to_list() if type(name) == str])"
   ]
  },
  {
   "cell_type": "code",
   "execution_count": 48,
   "id": "9f40fb2d-e74d-4aae-9548-672313e87675",
   "metadata": {
    "tags": []
   },
   "outputs": [],
   "source": [
    "#截取包名\n",
    "# def get_c_artifact(lib):\n",
    "#     complete_name = ':'.join(lib.split(':')[1:])\n",
    "#     artifact = complete_name.split('/')[-1]\n",
    "#     return artifact.lower()\n",
    "def get_c_artifact(lib):\n",
    "    complete_name = ':'.join(lib.split(':')[1:])  # 取第二部分及之后部分\n",
    "    artifact = complete_name.split('/')[-1]      # 取最后一部分\n",
    "    artifact = artifact.split(':')[0]            # 去掉版本号\n",
    "    return artifact.lower()\n"
   ]
  },
  {
   "cell_type": "code",
   "execution_count": 49,
   "id": "bd50f48a-d92b-443d-80f7-84da1bf48505",
   "metadata": {
    "tags": []
   },
   "outputs": [],
   "source": [
    "vulns = trains + tests\n",
    "vuln_labels = [get_c_artifact(vuln['label']) for vuln in vulns]"
   ]
  },
  {
   "cell_type": "code",
   "execution_count": 50,
   "id": "835e7f39",
   "metadata": {},
   "outputs": [
    {
     "data": {
      "text/plain": [
       "['commons-io', 'spring-core', 'jackson-databind', 'log4j']"
      ]
     },
     "execution_count": 50,
     "metadata": {},
     "output_type": "execute_result"
    }
   ],
   "source": [
    "vuln_labels"
   ]
  },
  {
   "cell_type": "code",
   "execution_count": 51,
   "id": "a6b5f494-8b62-43a8-a749-bfc537d54ad8",
   "metadata": {
    "tags": []
   },
   "outputs": [],
   "source": [
    "name_weight = 4\n",
    "pros_corpus = pros.drop_duplicates('name')[['name', 'summary']]\n",
    "pros_corpus.columns = ['object', 'token']\n",
    "pros_corpus.object = pros_corpus.object.apply(lambda x: x.lower())\n",
    "pros_corpus.token = pros_corpus.token.apply(lambda x: x if type(x) == str else ' ')\n",
    "pros_mapping = pros_corpus.set_index('object').to_dict()\n",
    "pros_corpus.token = pros_corpus.apply(\\\n",
    "                    lambda x: f\"{x['object'] * name_weight} {x['token']}\", axis=1)\n",
    "\n",
    "pros_corpus.token = pros_corpus.token.apply(lambda x: cleaned_text(x))\n",
    "pros_corpus.token = pros_corpus.token.apply(lambda x: ' '.join(x))"
   ]
  },
  {
   "cell_type": "code",
   "execution_count": 52,
   "id": "7cb4ede5-6c39-4e9b-8c1c-dc90a6e4a356",
   "metadata": {
    "tags": []
   },
   "outputs": [
    {
     "data": {
      "text/html": [
       "<div>\n",
       "<style scoped>\n",
       "    .dataframe tbody tr th:only-of-type {\n",
       "        vertical-align: middle;\n",
       "    }\n",
       "\n",
       "    .dataframe tbody tr th {\n",
       "        vertical-align: top;\n",
       "    }\n",
       "\n",
       "    .dataframe thead th {\n",
       "        text-align: right;\n",
       "    }\n",
       "</style>\n",
       "<table border=\"1\" class=\"dataframe\">\n",
       "  <thead>\n",
       "    <tr style=\"text-align: right;\">\n",
       "      <th></th>\n",
       "      <th>object</th>\n",
       "      <th>token</th>\n",
       "    </tr>\n",
       "  </thead>\n",
       "  <tbody>\n",
       "    <tr>\n",
       "      <th>0</th>\n",
       "      <td>commons-io</td>\n",
       "      <td>commons iocommons iocommons iocommons io apach...</td>\n",
       "    </tr>\n",
       "    <tr>\n",
       "      <th>1</th>\n",
       "      <td>spring-core</td>\n",
       "      <td>spring corespring corespring corespring core c...</td>\n",
       "    </tr>\n",
       "    <tr>\n",
       "      <th>2</th>\n",
       "      <td>log4j</td>\n",
       "      <td>log jlog jlog jlog j reliable fast flexible lo...</td>\n",
       "    </tr>\n",
       "  </tbody>\n",
       "</table>\n",
       "</div>"
      ],
      "text/plain": [
       "        object                                              token\n",
       "0   commons-io  commons iocommons iocommons iocommons io apach...\n",
       "1  spring-core  spring corespring corespring corespring core c...\n",
       "2        log4j  log jlog jlog jlog j reliable fast flexible lo..."
      ]
     },
     "execution_count": 52,
     "metadata": {},
     "output_type": "execute_result"
    }
   ],
   "source": [
    "pros_corpus"
   ]
  },
  {
   "cell_type": "code",
   "execution_count": 53,
   "id": "5a0f1ab3-bb14-4dbc-8969-eae7c3299b63",
   "metadata": {
    "tags": []
   },
   "outputs": [],
   "source": [
    "search_engine = tfidf_searching.TfidfSearching(pros_corpus, 512, 2)"
   ]
  },
  {
   "cell_type": "code",
   "execution_count": 54,
   "id": "6696d1cb-c560-49ec-82ce-4ca0e38cc04c",
   "metadata": {
    "tags": []
   },
   "outputs": [],
   "source": [
    "def recall(vuln, search_result, k=128):\n",
    "    artifact = get_c_artifact(vuln['raw_label'])\n",
    "    return artifact in search_result[:k]"
   ]
  },
  {
   "cell_type": "code",
   "execution_count": 55,
   "id": "2235aa91-8e36-43e2-8417-2481805cf9ab",
   "metadata": {
    "tags": []
   },
   "outputs": [],
   "source": [
    "def fun(vuln):\n",
    "    search_engine = tfidf_searching.TfidfSearching(pros_corpus, 1024, 2)\n",
    "    return search_engine.search_topk_objects(cleaned_text(vuln['desc']), [])"
   ]
  },
  {
   "cell_type": "code",
   "execution_count": 56,
   "id": "0cb49424-08c7-44da-a25c-c19e6872fba9",
   "metadata": {
    "tags": []
   },
   "outputs": [
    {
     "name": "stderr",
     "output_type": "stream",
     "text": [
      "\n",
      "it [00:00, 3892.63it/s]"
     ]
    }
   ],
   "source": [
    "with Pool(processes=64) as pool:\n",
    "    tf_idf_res = list(tqdm(pool.imap(fun, vulns)))"
   ]
  },
  {
   "cell_type": "raw",
   "id": "305b5fab-e349-47cb-95d3-540d8d0fac29",
   "metadata": {
    "tags": []
   },
   "source": [
    "for k in [128, 256, 512, 1024]:\n",
    "    recalls = [recall(vuln, res, k) for vuln, res in zip(vulns, tf_idf_res)\\\n",
    "               if get_c_artifact(vuln['raw_label']) in pros_names]\n",
    "    print(f'k={k}:', sum(recalls), len(recalls))"
   ]
  },
  {
   "cell_type": "code",
   "execution_count": 57,
   "id": "b9a65a9f-f490-4863-acec-a903b5e1e2e1",
   "metadata": {
    "tags": []
   },
   "outputs": [
    {
     "data": {
      "text/plain": [
       "[['commons-io', 'spring-core', 'log4j'],\n",
       " ['spring-core', 'commons-io', 'log4j'],\n",
       " ['commons-io', 'spring-core', 'log4j'],\n",
       " ['log4j', 'commons-io', 'spring-core']]"
      ]
     },
     "execution_count": 57,
     "metadata": {},
     "output_type": "execute_result"
    }
   ],
   "source": [
    "tf_idf_res"
   ]
  },
  {
   "cell_type": "code",
   "execution_count": 58,
   "id": "0fa3278d-8038-4bec-8104-2485013fc6cb",
   "metadata": {
    "tags": []
   },
   "outputs": [],
   "source": [
    "for vuln, res in zip(vulns, tf_idf_res):\n",
    "    vuln['top_k'] = [{'lib_name': lib, 'website_description':\\\n",
    "                      pros_mapping['token'][lib]} for lib in res]\n",
    "    vuln['raw_label'] = vuln['label']\n",
    "    vuln['labels'] = get_c_artifact(vuln['label'])\n",
    "    del vuln['label']"
   ]
  },
  {
   "cell_type": "code",
   "execution_count": 59,
   "id": "e90544a3",
   "metadata": {},
   "outputs": [
    {
     "data": {
      "text/plain": [
       "[{'desc': 'A vulnerability in Apache Commons IO allows remote attackers to execute arbitrary code via crafted input.',\n",
       "  'top_k': [{'lib_name': 'commons-io',\n",
       "    'website_description': 'Apache Commons IO provides utility classes for IO operations, such as reading and writing files.'},\n",
       "   {'lib_name': 'spring-core',\n",
       "    'website_description': 'The core functionality of the Spring Framework, including dependency injection and aspect-oriented programming.'},\n",
       "   {'lib_name': 'log4j',\n",
       "    'website_description': 'A reliable, fast, and flexible logging framework (APIs) written in Java.'}],\n",
       "  'raw_label': 'org.apache.commons:commons-io:2.8.0',\n",
       "  'labels': 'commons-io'},\n",
       " {'desc': 'A deserialization vulnerability in Spring Core allows attackers to execute arbitrary code.',\n",
       "  'top_k': [{'lib_name': 'spring-core',\n",
       "    'website_description': 'The core functionality of the Spring Framework, including dependency injection and aspect-oriented programming.'},\n",
       "   {'lib_name': 'commons-io',\n",
       "    'website_description': 'Apache Commons IO provides utility classes for IO operations, such as reading and writing files.'},\n",
       "   {'lib_name': 'log4j',\n",
       "    'website_description': 'A reliable, fast, and flexible logging framework (APIs) written in Java.'}],\n",
       "  'raw_label': 'org.springframework:spring-core:5.3.0',\n",
       "  'labels': 'spring-core'},\n",
       " {'desc': 'A vulnerability in Jackson Databind allows remote attackers to execute arbitrary code via a crafted JSON input.',\n",
       "  'top_k': [{'lib_name': 'commons-io',\n",
       "    'website_description': 'Apache Commons IO provides utility classes for IO operations, such as reading and writing files.'},\n",
       "   {'lib_name': 'spring-core',\n",
       "    'website_description': 'The core functionality of the Spring Framework, including dependency injection and aspect-oriented programming.'},\n",
       "   {'lib_name': 'log4j',\n",
       "    'website_description': 'A reliable, fast, and flexible logging framework (APIs) written in Java.'}],\n",
       "  'raw_label': 'com.fasterxml.jackson.core:jackson-databind:2.12.3',\n",
       "  'labels': 'jackson-databind'},\n",
       " {'desc': 'A critical vulnerability in Log4j allows attackers to perform remote code execution via specially crafted log messages.',\n",
       "  'top_k': [{'lib_name': 'log4j',\n",
       "    'website_description': 'A reliable, fast, and flexible logging framework (APIs) written in Java.'},\n",
       "   {'lib_name': 'commons-io',\n",
       "    'website_description': 'Apache Commons IO provides utility classes for IO operations, such as reading and writing files.'},\n",
       "   {'lib_name': 'spring-core',\n",
       "    'website_description': 'The core functionality of the Spring Framework, including dependency injection and aspect-oriented programming.'}],\n",
       "  'raw_label': 'org.log4j:log4j:2.14.1',\n",
       "  'labels': 'log4j'}]"
      ]
     },
     "execution_count": 59,
     "metadata": {},
     "output_type": "execute_result"
    }
   ],
   "source": [
    "vulns"
   ]
  },
  {
   "cell_type": "code",
   "execution_count": 60,
   "id": "c0f1069b-3819-4d0c-8f8c-b90bf16a1350",
   "metadata": {
    "tags": []
   },
   "outputs": [],
   "source": [
    "for idx, vuln in enumerate(vulns):\n",
    "    vuln['labels'] = [vuln['labels']]"
   ]
  },
  {
   "cell_type": "code",
   "execution_count": 61,
   "id": "2d8fad89",
   "metadata": {},
   "outputs": [
    {
     "data": {
      "text/plain": [
       "[{'desc': 'A vulnerability in Apache Commons IO allows remote attackers to execute arbitrary code via crafted input.',\n",
       "  'top_k': [{'lib_name': 'commons-io',\n",
       "    'website_description': 'Apache Commons IO provides utility classes for IO operations, such as reading and writing files.'},\n",
       "   {'lib_name': 'spring-core',\n",
       "    'website_description': 'The core functionality of the Spring Framework, including dependency injection and aspect-oriented programming.'},\n",
       "   {'lib_name': 'log4j',\n",
       "    'website_description': 'A reliable, fast, and flexible logging framework (APIs) written in Java.'}],\n",
       "  'raw_label': 'org.apache.commons:commons-io:2.8.0',\n",
       "  'labels': ['commons-io']},\n",
       " {'desc': 'A deserialization vulnerability in Spring Core allows attackers to execute arbitrary code.',\n",
       "  'top_k': [{'lib_name': 'spring-core',\n",
       "    'website_description': 'The core functionality of the Spring Framework, including dependency injection and aspect-oriented programming.'},\n",
       "   {'lib_name': 'commons-io',\n",
       "    'website_description': 'Apache Commons IO provides utility classes for IO operations, such as reading and writing files.'},\n",
       "   {'lib_name': 'log4j',\n",
       "    'website_description': 'A reliable, fast, and flexible logging framework (APIs) written in Java.'}],\n",
       "  'raw_label': 'org.springframework:spring-core:5.3.0',\n",
       "  'labels': ['spring-core']},\n",
       " {'desc': 'A vulnerability in Jackson Databind allows remote attackers to execute arbitrary code via a crafted JSON input.',\n",
       "  'top_k': [{'lib_name': 'commons-io',\n",
       "    'website_description': 'Apache Commons IO provides utility classes for IO operations, such as reading and writing files.'},\n",
       "   {'lib_name': 'spring-core',\n",
       "    'website_description': 'The core functionality of the Spring Framework, including dependency injection and aspect-oriented programming.'},\n",
       "   {'lib_name': 'log4j',\n",
       "    'website_description': 'A reliable, fast, and flexible logging framework (APIs) written in Java.'}],\n",
       "  'raw_label': 'com.fasterxml.jackson.core:jackson-databind:2.12.3',\n",
       "  'labels': ['jackson-databind']},\n",
       " {'desc': 'A critical vulnerability in Log4j allows attackers to perform remote code execution via specially crafted log messages.',\n",
       "  'top_k': [{'lib_name': 'log4j',\n",
       "    'website_description': 'A reliable, fast, and flexible logging framework (APIs) written in Java.'},\n",
       "   {'lib_name': 'commons-io',\n",
       "    'website_description': 'Apache Commons IO provides utility classes for IO operations, such as reading and writing files.'},\n",
       "   {'lib_name': 'spring-core',\n",
       "    'website_description': 'The core functionality of the Spring Framework, including dependency injection and aspect-oriented programming.'}],\n",
       "  'raw_label': 'org.log4j:log4j:2.14.1',\n",
       "  'labels': ['log4j']}]"
      ]
     },
     "execution_count": 61,
     "metadata": {},
     "output_type": "execute_result"
    }
   ],
   "source": [
    "vulns"
   ]
  },
  {
   "cell_type": "code",
   "execution_count": 62,
   "id": "a035e01f",
   "metadata": {},
   "outputs": [
    {
     "data": {
      "text/plain": [
       "['commons-io', 'spring-core', 'jackson-databind', 'log4j']"
      ]
     },
     "execution_count": 62,
     "metadata": {},
     "output_type": "execute_result"
    }
   ],
   "source": [
    "vuln_labels"
   ]
  },
  {
   "cell_type": "code",
   "execution_count": 63,
   "id": "be45b8ce-e8ea-4e63-9436-16268f479e3b",
   "metadata": {
    "tags": []
   },
   "outputs": [],
   "source": [
    "output_dir = '/nvme2n1/YangYJworks/@VulApiAlarm/VulLibMiner/myData/output/'\n",
    "train_path = os.path.join(output_dir, 'train.json')\n",
    "valid_path = os.path.join(output_dir, 'valid.json')\n",
    "test_path = os.path.join(output_dir, 'test.json')\n",
    "\n",
    "new_train = [vuln for vuln, label in zip(trains, vuln_labels[:-2]) if label in pros_names]\n",
    "new_test = [vuln for vuln, label in zip(tests, vuln_labels[-2:]) if label in pros_names]\n",
    "\n",
    "with open(train_path, 'w') as f:\n",
    "    json.dump(new_train, f)\n",
    "\n",
    "with open(valid_path, 'w') as f:\n",
    "    json.dump(new_test, f)\n",
    "\n",
    "with open(test_path, 'w') as f:\n",
    "    json.dump(new_test, f)"
   ]
  },
  {
   "cell_type": "code",
   "execution_count": 64,
   "id": "d32176ff-6239-43eb-96a3-fb3516f4bb27",
   "metadata": {
    "tags": []
   },
   "outputs": [
    {
     "data": {
      "text/plain": [
       "1"
      ]
     },
     "execution_count": 64,
     "metadata": {},
     "output_type": "execute_result"
    }
   ],
   "source": [
    "len(new_test)"
   ]
  },
  {
   "cell_type": "code",
   "execution_count": null,
   "id": "4ddb7765-711c-4f33-8b21-d09fb084760f",
   "metadata": {},
   "outputs": [],
   "source": []
  },
  {
   "cell_type": "code",
   "execution_count": null,
   "id": "1409b626-7518-462b-842f-002fe7925059",
   "metadata": {},
   "outputs": [],
   "source": []
  },
  {
   "cell_type": "code",
   "execution_count": null,
   "id": "40fc22f3-7a8a-48f4-a082-02e4bc65e57e",
   "metadata": {},
   "outputs": [],
   "source": []
  },
  {
   "cell_type": "code",
   "execution_count": 65,
   "id": "aa480404-c20b-4257-9835-f3f40a936cce",
   "metadata": {
    "tags": []
   },
   "outputs": [
    {
     "data": {
      "text/plain": [
       "False"
      ]
     },
     "execution_count": 65,
     "metadata": {},
     "output_type": "execute_result"
    }
   ],
   "source": [
    "'ntp' in search_engine.search_topk_objects(cleaned_text(trains[0]['desc']), [])"
   ]
  }
 ],
 "metadata": {
  "kernelspec": {
   "display_name": "Python 3 (ipykernel)",
   "language": "python",
   "name": "python3"
  },
  "language_info": {
   "codemirror_mode": {
    "name": "ipython",
    "version": 3
   },
   "file_extension": ".py",
   "mimetype": "text/x-python",
   "name": "python",
   "nbconvert_exporter": "python",
   "pygments_lexer": "ipython3",
   "version": "3.10.13"
  }
 },
 "nbformat": 4,
 "nbformat_minor": 5
}
